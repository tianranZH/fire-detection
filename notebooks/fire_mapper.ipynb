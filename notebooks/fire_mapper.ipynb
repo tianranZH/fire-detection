{
 "cells": [
  {
   "cell_type": "code",
   "execution_count": 6,
   "metadata": {},
   "outputs": [],
   "source": [
    "import os\n",
    "os.chdir(\"/workspaces/fire-detection/\")\n",
    "\n",
    "from ipyleaflet import Map, basemaps, GeoData\n",
    "from ipyleaflet import FullScreenControl, projections\n",
    "import numpy as np\n",
    "import pandas as pd\n",
    "import geopandas as gpd\n",
    "\n",
    "test_file = 'data/20220722.csv'\n",
    "df_fire = pd.read_csv(test_file)\n",
    "gdf_fire = gpd.GeoDataFrame(df_fire,geometry=gpd.points_from_xy(df_fire.longitude,df_fire.latitude))"
   ]
  },
  {
   "cell_type": "code",
   "execution_count": 9,
   "metadata": {},
   "outputs": [
    {
     "data": {
      "application/vnd.jupyter.widget-view+json": {
       "model_id": "144c034adae24d6db013c3b02095e2bb",
       "version_major": 2,
       "version_minor": 0
      },
      "text/plain": [
       "Map(center=[42.82960223363018, -113.40483155369301], controls=(ZoomControl(options=['position', 'zoom_in_text'…"
      ]
     },
     "execution_count": 9,
     "metadata": {},
     "output_type": "execute_result"
    }
   ],
   "source": [
    "central_lat = np.mean(gdf_fire.latitude)\n",
    "central_lon = np.mean(gdf_fire.longitude)\n",
    "EPSG_MAP = projections.EPSG3857\n",
    "\n",
    "m = Map(center=(central_lat,central_lon), \n",
    "    zoom = 4, \n",
    "    basemap= basemaps.Esri.WorldImagery,\n",
    "    crs = EPSG_MAP)\n",
    "geo_data_fire = GeoData(geo_dataframe = gdf_fire,\n",
    "    style={'color': 'black', 'radius':8, 'fillColor': '#A10100', 'opacity':0.5, 'weight':1.9, 'dashArray':'2', 'fillOpacity':0.6},\n",
    "    hover_style={'fillColor': 'red' , 'fillOpacity': 0.2},\n",
    "    point_style={'radius': 5, 'color': 'red', 'fillOpacity': 0.8, 'fillColor': 'red', 'weight': 3},\n",
    "#         name = 'Release'\n",
    "                  )\n",
    "m.add_layer(geo_data_fire)\n",
    "\n",
    "m.add_control(FullScreenControl())\n",
    "m"
   ]
  }
 ],
 "metadata": {
  "kernelspec": {
   "display_name": "Python 3.10.6 64-bit",
   "language": "python",
   "name": "python3"
  },
  "language_info": {
   "codemirror_mode": {
    "name": "ipython",
    "version": 3
   },
   "file_extension": ".py",
   "mimetype": "text/x-python",
   "name": "python",
   "nbconvert_exporter": "python",
   "pygments_lexer": "ipython3",
   "version": "3.10.6"
  },
  "orig_nbformat": 4,
  "vscode": {
   "interpreter": {
    "hash": "949777d72b0d2535278d3dc13498b2535136f6dfe0678499012e853ee9abcab1"
   }
  }
 },
 "nbformat": 4,
 "nbformat_minor": 2
}
