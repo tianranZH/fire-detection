{
 "cells": [
  {
   "cell_type": "code",
   "execution_count": null,
   "metadata": {},
   "outputs": [],
   "source": [
    "import xarray\n",
    "import numpy as np\n",
    "\n",
    "global mask_value \n",
    "mask_value = -1\n"
   ]
  },
  {
   "cell_type": "code",
   "execution_count": null,
   "metadata": {},
   "outputs": [],
   "source": [
    "def check_I4_I5_pair(I4_filename):\n",
    "    return\n",
    "\n",
    "def read_I4_I5_data(I4_filename,I5_filename):\n",
    "    '''\n",
    "    notice that we want to mask bad quality data out\n",
    "    '''\n",
    "\n",
    "    return\n"
   ]
  },
  {
   "cell_type": "code",
   "execution_count": null,
   "metadata": {},
   "outputs": [],
   "source": [
    "'''\n",
    "we will perform a 4-step standard fire algorithm\n",
    "based on one of my old paper: https://www.sciencedirect.com/science/article/pii/S0034425717302870\n",
    "1. day/time confirming \n",
    "2. cloud \n",
    "3. candidate mask: spectral filter & spatial filter\n",
    "4. contextual analysis\n",
    "'''\n",
    "\n",
    "def create_daynight_mask(I4_arr,I5_arr):\n",
    "    return\n",
    "\n",
    "def create_cloud_mask(I4_arr,I5_arr,daynight_mask):\n",
    "    return\n",
    "\n",
    "def create_fire_candidate_mask(I4_arr,I5_arr,cloud_mask):\n",
    "    return\n",
    "\n",
    "def contextural_analysis():\n",
    "    return"
   ]
  }
 ],
 "metadata": {
  "language_info": {
   "name": "python"
  },
  "orig_nbformat": 4
 },
 "nbformat": 4,
 "nbformat_minor": 2
}
